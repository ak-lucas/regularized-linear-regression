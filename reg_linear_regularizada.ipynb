{
 "cells": [
  {
   "cell_type": "markdown",
   "metadata": {},
   "source": [
    "# Regressão Linear com Descida de Gradiente Regularizada "
   ]
  },
  {
   "cell_type": "markdown",
   "metadata": {},
   "source": [
    "Este notebook foi criado para facilitar a realização dos experimentos do trabalho. Caso funcione bem, podemos adotar esta ferramenta também em trabalhos futuros.\n",
    "\n",
    "**Conteúdo do notebook: **\n",
    "\n",
    "- classe com a implementação da regressão linear com descida de gradiente regularizada;\n",
    "- main com exemplo de utilização da classe;\n",
    "- código para gerar os resultados e realizar os experimentos;\n",
    "- avaliação dos resultados;\n",
    "\n",
    "**Requisitos para executar este notebook: **\n",
    "- ter os arquivos do repositório deste notebook na mesma pasta;\n",
    "- ter numpy instalado (recomendável instalar toda pilha scipy);\n",
    "- ter sklearn instalado caso queira comparar os resultados;"
   ]
  },
  {
   "cell_type": "markdown",
   "metadata": {},
   "source": [
    "**Classe da regressão linear com descida de gradiente regularizada:**"
   ]
  },
  {
   "cell_type": "markdown",
   "metadata": {
    "collapsed": true
   },
   "source": [
    "A classe está implementada no arquivo regressao_linear_regularizado.py que deve ser mantido no mesmo diretório deste notebook."
   ]
  },
  {
   "cell_type": "markdown",
   "metadata": {},
   "source": [
    "**exemplo de uso**\n",
    "\n",
    "Neste exemplo é utilizado um dataset para regressão disponível no sklearn chamado diabetes."
   ]
  },
  {
   "cell_type": "code",
   "execution_count": 7,
   "metadata": {},
   "outputs": [
    {
     "name": "stdout",
     "output_type": "stream",
     "text": [
      "loss function:  2054.35959254\n",
      "MSE:  4024.8053902\n"
     ]
    }
   ],
   "source": [
    "from regressao_linear_regularizado import RegularizedLinearRegression\n",
    "import numpy as np\n",
    "from sklearn import datasets\n",
    "\n",
    "# CARREGA DATASET\n",
    "diabetes = datasets.load_diabetes()\n",
    "nb_instances = diabetes.data.shape[0]\n",
    "\n",
    "# EMBARALHA\n",
    "indices = np.arange(nb_instances)\n",
    "\n",
    "np.random.shuffle(indices)\n",
    "\n",
    "X = diabetes.data[indices]\n",
    "Y = diabetes.target[indices]\n",
    "\n",
    "# SEPARA CONJUNTOS DE TREINO E TESTE (holdout)\n",
    "TRAIN_SIZE = int(.8 * nb_instances)\n",
    "\n",
    "X_train = X[:TRAIN_SIZE]\n",
    "Y_train = Y[:TRAIN_SIZE]\n",
    "\n",
    "X_test = X[TRAIN_SIZE:]\n",
    "Y_test = Y[TRAIN_SIZE:]\n",
    "\n",
    "lr = RegularizedLinearRegression()\n",
    "\n",
    "epochs = 1000\n",
    "\n",
    "lr.fit(X_train, Y_train, epochs=1000, learning_rate=0.1, Lambda=0.001)\n",
    "\n",
    "Y_predict = lr.predict(X_test)\n",
    "\n",
    "print \"loss function: \", lr.loss[-1]\n",
    "print \"MSE: \", lr.mean_squared_error(Y_predict, Y_test)"
   ]
  },
  {
   "cell_type": "markdown",
   "metadata": {
    "collapsed": true
   },
   "source": [
    "**Classe para plotar gráficos**\n",
    "\n",
    "Abaixo está definida a classe utilizada para plotar gŕaficos.\n",
    "\n",
    "Parâmetros do método plot_curve:\n",
    "- X -> lista com os pontos do eixo x\n",
    "- Y -> lista com os pontos do eixo y"
   ]
  },
  {
   "cell_type": "code",
   "execution_count": 8,
   "metadata": {
    "collapsed": true
   },
   "outputs": [],
   "source": [
    "import matplotlib.pyplot as plt\n",
    "\n",
    "class Plot:\n",
    "    def __init__(self):\n",
    "        pass\n",
    "    \n",
    "    def plot_curve(self, X, Y, xlabel='', ylabel='', color='blue', linewidth=2, title='', grid=False):\n",
    "        plt.plot(X, Y, color=color, linewidth=linewidth)\n",
    "        plt.xlabel(xlabel)\n",
    "        plt.ylabel(ylabel)\n",
    "        plt.title(title)\n",
    "        plt.grid(grid)\n",
    "\n",
    "        plt.show()"
   ]
  },
  {
   "cell_type": "markdown",
   "metadata": {},
   "source": [
    "**exemplo de execução: Loss x Iteração**\n",
    "\n",
    "Abaixo está o código para plotar o gráfico da função de custo ao longo de cada iteração."
   ]
  },
  {
   "cell_type": "code",
   "execution_count": 9,
   "metadata": {},
   "outputs": [
    {
     "data": {
      "image/png": "[encoded data removed]",
      "text/plain": [
       "<matplotlib.figure.Figure at 0x7f0f7391fed0>"
      ]
     },
     "metadata": {},
     "output_type": "display_data"
    }
   ],
   "source": [
    "axis_x = range(epochs+1)\n",
    "\n",
    "axis_y = lr.loss\n",
    "\n",
    "plot = Plot()\n",
    "plot.plot_curve(axis_x, axis_y, xlabel='iteracao', ylabel='loss', title='Regressao Logistica', grid=True)"
   ]
  },
  {
   "cell_type": "markdown",
   "metadata": {},
   "source": [
    "## Utilizando o dataset CCPP\n",
    "\n",
    "Doravante assume-se que está claro como utilizar as classes que foram implementadas. Para gerar os resultados será utilizado o dataset CCPP (Combined Cycle Power Plant) disponibilizado para o trabalho 1."
   ]
  },
  {
   "cell_type": "code",
   "execution_count": null,
   "metadata": {
    "collapsed": true
   },
   "outputs": [],
   "source": []
  }
 ],
 "metadata": {
  "kernelspec": {
   "display_name": "Python 2",
   "language": "python",
   "name": "python2"
  },
  "language_info": {
   "codemirror_mode": {
    "name": "ipython",
    "version": 2
   },
   "file_extension": ".py",
   "mimetype": "text/x-python",
   "name": "python",
   "nbconvert_exporter": "python",
   "pygments_lexer": "ipython2",
   "version": "2.7.12"
  }
 },
 "nbformat": 4,
 "nbformat_minor": 2
}
