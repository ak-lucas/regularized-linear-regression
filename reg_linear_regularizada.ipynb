{
 "cells": [
  {
   "cell_type": "markdown",
   "metadata": {},
   "source": [
    "# Regressão Linear com Descida de Gradiente Regularizada\n",
    "\n",
    "Este notebook foi criado para facilitar a realização dos experimentos do trabalho. Caso funcione bem, podemos adotar esta ferramenta também em trabalhos futuros.\n",
    "\n",
    "**Conteúdo do notebook: **\n",
    "\n",
    "- classe com a implementação da regressão linear com descida de gradiente regularizada;\n",
    "- main com exemplo de utilização da classe;\n",
    "- código para gerar os resultados e realizar os experimentos;\n",
    "- avaliação dos resultados;\n",
    "\n",
    "**Requisitos para executar este notebook: **\n",
    "- ter os arquivos do repositório deste notebook na mesma pasta;\n",
    "- ter numpy instalado (recomendável instalar toda pilha scipy);\n",
    "- ter sklearn instalado caso queira comparar os resultados;"
   ]
  },
  {
   "cell_type": "markdown",
   "metadata": {},
   "source": [
    "**Classe da regressão linear com descida de gradiente regularizada:**"
   ]
  },
  {
   "cell_type": "code",
   "execution_count": null,
   "metadata": {
    "collapsed": true
   },
   "outputs": [],
   "source": []
  },
  {
   "cell_type": "markdown",
   "metadata": {},
   "source": [
    "**exemplo de uso**\n",
    "\n",
    "Neste exemplo é utilizado um dataset para regressão disponível no sklearn chamado diabetes."
   ]
  },
  {
   "cell_type": "code",
   "execution_count": null,
   "metadata": {
    "collapsed": true
   },
   "outputs": [],
   "source": [
    "#aqui no notebook não precisa importar, mas pra executar localmente com o interpretador python precisa\n",
    "#from regressao_linear_regularizado import RegularizedLinearRegression\n",
    "import numpy as np\n",
    "from sklearn import datasets, linear_model\n",
    "from sklearn.metrics import mean_squared_error, r2_score\n",
    "\n",
    "# CARREGA DATASET\n",
    "diabetes = datasets.load_diabetes()\n",
    "nb_instances = diabetes.data.shape[0]\n",
    "\n",
    "# EMBARALHA\n",
    "indices = np.arange(nb_instances)\n",
    "\n",
    "np.random.shuffle(indices)\n",
    "\n",
    "X = diabetes.data[indices]\n",
    "Y = diabetes.target[indices]\n",
    "\n",
    "# SEPARA CONJUNTOS DE TREINO E TESTE\n",
    "TRAIN_SIZE = int(.8 * nb_instances)\n",
    "\n",
    "X_train = X[:TRAIN_SIZE]\n",
    "Y_train = Y[:TRAIN_SIZE]\n",
    "\n",
    "X_test = X[TRAIN_SIZE:]\n",
    "Y_test = Y[TRAIN_SIZE:]\n",
    "\n",
    "lr = RegularizedLinearRegression()\n",
    "\n",
    "lr.fit(X_train, Y_train, epochs=10000, learning_rate=0.1, Lambda=0.01)\n",
    "\n",
    "Y_predict = lr.predict(X_test)\n",
    "\n",
    "print \"loss function: \", lr.loss[-1]\n",
    "print \"MSE: \", lr.mean_squared_error(Y_predict, Y_test)"
   ]
  },
  {
   "cell_type": "code",
   "execution_count": null,
   "metadata": {
    "collapsed": true
   },
   "outputs": [],
   "source": []
  }
 ],
 "metadata": {
  "kernelspec": {
   "display_name": "Python 2",
   "language": "python",
   "name": "python2"
  },
  "language_info": {
   "codemirror_mode": {
    "name": "ipython",
    "version": 2
   },
   "file_extension": ".py",
   "mimetype": "text/x-python",
   "name": "python",
   "nbconvert_exporter": "python",
   "pygments_lexer": "ipython2",
   "version": "2.7.12"
  }
 },
 "nbformat": 4,
 "nbformat_minor": 2
}
